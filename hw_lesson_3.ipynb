{
  "nbformat": 4,
  "nbformat_minor": 0,
  "metadata": {
    "colab": {
      "name": "hw_lesson_3.ipynb",
      "version": "0.3.2",
      "provenance": [],
      "collapsed_sections": [],
      "include_colab_link": true
    },
    "kernelspec": {
      "name": "python3",
      "display_name": "Python 3"
    }
  },
  "cells": [
    {
      "cell_type": "markdown",
      "metadata": {
        "id": "view-in-github",
        "colab_type": "text"
      },
      "source": [
        "<a href=\"https://colab.research.google.com/github/francuzovd/probability_theory/blob/master/hw_lesson_3.ipynb\" target=\"_parent\"><img src=\"https://colab.research.google.com/assets/colab-badge.svg\" alt=\"Open In Colab\"/></a>"
      ]
    },
    {
      "metadata": {
        "id": "Ff7Zk6Y78Y9Y",
        "colab_type": "code",
        "colab": {}
      },
      "cell_type": "code",
      "source": [
        "import pandas as pd\n",
        "import numpy as np"
      ],
      "execution_count": 0,
      "outputs": []
    },
    {
      "metadata": {
        "id": "qaWt1-bR1RkV",
        "colab_type": "text"
      },
      "cell_type": "markdown",
      "source": [
        "1. Даны значения зарплат из выборки выпускников: 100, 80, 75, 77, 89, 33, 45, 25, 65, 17, 30, 24, 57, 55, 70, 75, 65, 84, 90, 150. Посчитать (желательно без использования статистических методов наподобие std, var, mean) среднее арифметическое, среднее квадратичное отклонение, смещенную и несмещенную оценки дисперсий для данной выборки."
      ]
    },
    {
      "metadata": {
        "id": "yMz4blrO1juo",
        "colab_type": "code",
        "colab": {
          "base_uri": "https://localhost:8080/",
          "height": 390
        },
        "outputId": "b2575290-a1ef-4e73-ee9e-17becc637ad6"
      },
      "cell_type": "code",
      "source": [
        "salary = pd.Series([100, 80, 75, 77, 89, 33, 45, 25, 65, 17, 30, 24, 57, 55, 70, 75, 65, 84, 90, 150])\n",
        "salary"
      ],
      "execution_count": 2,
      "outputs": [
        {
          "output_type": "execute_result",
          "data": {
            "text/plain": [
              "0     100\n",
              "1      80\n",
              "2      75\n",
              "3      77\n",
              "4      89\n",
              "5      33\n",
              "6      45\n",
              "7      25\n",
              "8      65\n",
              "9      17\n",
              "10     30\n",
              "11     24\n",
              "12     57\n",
              "13     55\n",
              "14     70\n",
              "15     75\n",
              "16     65\n",
              "17     84\n",
              "18     90\n",
              "19    150\n",
              "dtype: int64"
            ]
          },
          "metadata": {
            "tags": []
          },
          "execution_count": 2
        }
      ]
    },
    {
      "metadata": {
        "id": "6DwBr1Pa1jmb",
        "colab_type": "code",
        "colab": {
          "base_uri": "https://localhost:8080/",
          "height": 34
        },
        "outputId": "1ba0a86d-6fae-4b83-d5ee-549b105464e5"
      },
      "cell_type": "code",
      "source": [
        "#Среднее арифметическое\n",
        "mean_salary = salary.sum() / salary.count()\n",
        "mean_salary"
      ],
      "execution_count": 3,
      "outputs": [
        {
          "output_type": "execute_result",
          "data": {
            "text/plain": [
              "65.3"
            ]
          },
          "metadata": {
            "tags": []
          },
          "execution_count": 3
        }
      ]
    },
    {
      "metadata": {
        "id": "44io5sq_1jgp",
        "colab_type": "code",
        "colab": {
          "base_uri": "https://localhost:8080/",
          "height": 34
        },
        "outputId": "b60a93cd-627f-4817-c00d-29ef3ec99883"
      },
      "cell_type": "code",
      "source": [
        "#Среднее квадратичное отклонение\n",
        "std_salary = np.sqrt( ((salary - mean_salary) ** 2).sum() / salary.count() )\n",
        "std_salary"
      ],
      "execution_count": 4,
      "outputs": [
        {
          "output_type": "execute_result",
          "data": {
            "text/plain": [
              "30.823854398825596"
            ]
          },
          "metadata": {
            "tags": []
          },
          "execution_count": 4
        }
      ]
    },
    {
      "metadata": {
        "id": "HYaQEyjd5l36",
        "colab_type": "code",
        "colab": {
          "base_uri": "https://localhost:8080/",
          "height": 34
        },
        "outputId": "36e3bb70-9d3c-450a-efb5-9b9c4df857e2"
      },
      "cell_type": "code",
      "source": [
        "#Смещённая дисперсия\n",
        "variance_salary = std_salary ** 2\n",
        "variance_salary"
      ],
      "execution_count": 5,
      "outputs": [
        {
          "output_type": "execute_result",
          "data": {
            "text/plain": [
              "950.11"
            ]
          },
          "metadata": {
            "tags": []
          },
          "execution_count": 5
        }
      ]
    },
    {
      "metadata": {
        "id": "D2OrzXlw-qMF",
        "colab_type": "code",
        "colab": {
          "base_uri": "https://localhost:8080/",
          "height": 34
        },
        "outputId": "a6bb9030-ee04-4145-9c0b-1192c5a38eba"
      },
      "cell_type": "code",
      "source": [
        "#Несмещённая дисперсия\n",
        "variance_salary_2 = ((salary - mean_salary) ** 2).sum() / (salary.count() - 1)\n",
        "variance_salary_2"
      ],
      "execution_count": 6,
      "outputs": [
        {
          "output_type": "execute_result",
          "data": {
            "text/plain": [
              "1000.1157894736842"
            ]
          },
          "metadata": {
            "tags": []
          },
          "execution_count": 6
        }
      ]
    },
    {
      "metadata": {
        "id": "MapCECYA-qHB",
        "colab_type": "code",
        "colab": {}
      },
      "cell_type": "code",
      "source": [
        ""
      ],
      "execution_count": 0,
      "outputs": []
    },
    {
      "metadata": {
        "id": "qGUBD6m_1Wx4",
        "colab_type": "text"
      },
      "cell_type": "markdown",
      "source": [
        "2. В первом ящике находится 8 мячей, из которых 5 - белые. Во втором ящике - 12 мячей, из которых 5 белых. Из первого ящика вытаскивают случайным образом два мяча, из второго - 4. Какова вероятность того, что 3 мяча белые?"
      ]
    },
    {
      "metadata": {
        "id": "yZLBieH11kT0",
        "colab_type": "text"
      },
      "cell_type": "markdown",
      "source": [
        "Возможные варианы:\n",
        "1. Из первого ящика  - 0 белых, из второго - 3 белых\n",
        "2. Из первого ящика  - 1 белый, из второго - 2 белых\n",
        "3. Из первого ящика  - 2 белых, из второго - 1 белый\n"
      ]
    },
    {
      "metadata": {
        "id": "bdM3sVVv1kRI",
        "colab_type": "code",
        "colab": {}
      },
      "cell_type": "code",
      "source": [
        "def C(k, n):\n",
        "  return np.math.factorial(n) / (np.math.factorial(k) * np.math.factorial(n - k))"
      ],
      "execution_count": 0,
      "outputs": []
    },
    {
      "metadata": {
        "id": "rJCaKr9W1kOh",
        "colab_type": "code",
        "colab": {
          "base_uri": "https://localhost:8080/",
          "height": 34
        },
        "outputId": "8dd31a43-2544-4d8d-bfe8-fa06d08e2c64"
      },
      "cell_type": "code",
      "source": [
        "P_1 = (C(2, 3) / C(2, 8)) * ( (C(3,5) * C(1,7)) / C(4,12) )\n",
        "P_1"
      ],
      "execution_count": 8,
      "outputs": [
        {
          "output_type": "execute_result",
          "data": {
            "text/plain": [
              "0.01515151515151515"
            ]
          },
          "metadata": {
            "tags": []
          },
          "execution_count": 8
        }
      ]
    },
    {
      "metadata": {
        "id": "M20R7_nMBRAo",
        "colab_type": "code",
        "colab": {
          "base_uri": "https://localhost:8080/",
          "height": 34
        },
        "outputId": "d5cec3a3-f7b4-4e14-92c6-443cb8dff9e7"
      },
      "cell_type": "code",
      "source": [
        "P_2 = ((C(1,3) * C(1,5)) / C(2,8)) * ((C(2,5) * C(2,7)) / C(4,12))\n",
        "P_2"
      ],
      "execution_count": 9,
      "outputs": [
        {
          "output_type": "execute_result",
          "data": {
            "text/plain": [
              "0.22727272727272727"
            ]
          },
          "metadata": {
            "tags": []
          },
          "execution_count": 9
        }
      ]
    },
    {
      "metadata": {
        "id": "Xifbs2UeBQ9b",
        "colab_type": "code",
        "colab": {
          "base_uri": "https://localhost:8080/",
          "height": 34
        },
        "outputId": "7a9e345f-8c12-4cd5-8b40-5f0c81f50795"
      },
      "cell_type": "code",
      "source": [
        "P_3 = (C(2, 5) / C(2, 8) ) * ((C(1,5) * C(3,7)) / C(4,12))\n",
        "P_3"
      ],
      "execution_count": 10,
      "outputs": [
        {
          "output_type": "execute_result",
          "data": {
            "text/plain": [
              "0.12626262626262627"
            ]
          },
          "metadata": {
            "tags": []
          },
          "execution_count": 10
        }
      ]
    },
    {
      "metadata": {
        "id": "IX5mZI-mBQ6e",
        "colab_type": "code",
        "colab": {
          "base_uri": "https://localhost:8080/",
          "height": 34
        },
        "outputId": "66374067-2092-4bc9-a2a3-f72de3ffb1c0"
      },
      "cell_type": "code",
      "source": [
        "P = P_1 + P_2 + P_3\n",
        "P"
      ],
      "execution_count": 11,
      "outputs": [
        {
          "output_type": "execute_result",
          "data": {
            "text/plain": [
              "0.3686868686868687"
            ]
          },
          "metadata": {
            "tags": []
          },
          "execution_count": 11
        }
      ]
    },
    {
      "metadata": {
        "id": "IOIFrH9k1aYi",
        "colab_type": "text"
      },
      "cell_type": "markdown",
      "source": [
        "3. На соревновании по биатлону один из трех спортсменов стреляет и попадает в мишень. Вероятность попадания для первого спортсмена равна 0.9, для второго — 0.8, для третьего — 0.6. Найти вероятность того, что выстрел произведен: a). первым спортсменом б). вторым спортсменом в). третьим спортсменом."
      ]
    },
    {
      "metadata": {
        "id": "F2JIJYkVJxDw",
        "colab_type": "text"
      },
      "cell_type": "markdown",
      "source": [
        "Вероятность выстрелить каждому спортсмену равна $1 \\over 3$.\n",
        "\n",
        "Используем формулу Байенса: \n",
        "\n",
        "$P(B|A) = {P(B) * P(A|B) \\over P(A)}$\n"
      ]
    },
    {
      "metadata": {
        "id": "xsNBKLTm1kwS",
        "colab_type": "code",
        "colab": {
          "base_uri": "https://localhost:8080/",
          "height": 34
        },
        "outputId": "ed0b5258-f211-4e70-ac6a-9b9a5d738619"
      },
      "cell_type": "code",
      "source": [
        "#Выстрелил первый спортсмен\n",
        "(1 / 3 * 0.9) / ((0.9 + 0.8 + 0.6) * 1 / 3)"
      ],
      "execution_count": 12,
      "outputs": [
        {
          "output_type": "execute_result",
          "data": {
            "text/plain": [
              "0.3913043478260869"
            ]
          },
          "metadata": {
            "tags": []
          },
          "execution_count": 12
        }
      ]
    },
    {
      "metadata": {
        "id": "YOZenR1U1ktV",
        "colab_type": "code",
        "colab": {
          "base_uri": "https://localhost:8080/",
          "height": 34
        },
        "outputId": "bb06d008-3d35-43b0-df60-ce7d49fd2a7e"
      },
      "cell_type": "code",
      "source": [
        "#Выстрелил второй спортсмен\n",
        "(1 / 3 * 0.8) / ((0.9 + 0.8 + 0.6) * 1 / 3)"
      ],
      "execution_count": 13,
      "outputs": [
        {
          "output_type": "execute_result",
          "data": {
            "text/plain": [
              "0.34782608695652173"
            ]
          },
          "metadata": {
            "tags": []
          },
          "execution_count": 13
        }
      ]
    },
    {
      "metadata": {
        "id": "HbJg20bH1kql",
        "colab_type": "code",
        "colab": {
          "base_uri": "https://localhost:8080/",
          "height": 34
        },
        "outputId": "b5e87751-6681-442d-97b4-2587aea1625b"
      },
      "cell_type": "code",
      "source": [
        "#Выстрелил nретий спортсмен\n",
        "(1 / 3 * 0.6) / ((0.9 + 0.8 + 0.6) * 1 / 3)"
      ],
      "execution_count": 14,
      "outputs": [
        {
          "output_type": "execute_result",
          "data": {
            "text/plain": [
              "0.26086956521739124"
            ]
          },
          "metadata": {
            "tags": []
          },
          "execution_count": 14
        }
      ]
    },
    {
      "metadata": {
        "id": "Y0Pn60AB1dDf",
        "colab_type": "text"
      },
      "cell_type": "markdown",
      "source": [
        "4. В университет на факультеты A и B поступило равное количество студентов, а на факультет C студентов поступило столько же, сколько на A и B вместе. Вероятность того, что студент факультета A сдаст первую сессию, равна 0.8. Для студента факультета B эта вероятность равна 0.7, а для студента факультета C - 0.9. Студент сдал первую сессию. Какова вероятность, что он учится: a). на факультете A б). на факультете B в). на факультете C?"
      ]
    },
    {
      "metadata": {
        "id": "WOeI-ola1lwS",
        "colab_type": "code",
        "colab": {}
      },
      "cell_type": "code",
      "source": [
        "P_A = 1 / 4\n",
        "P_B = 1 / 4\n",
        "P_C = 2 / 4\n",
        "P_com = (P_A * 0.8 + P_B * 0.7 + P_C * 0.9)"
      ],
      "execution_count": 0,
      "outputs": []
    },
    {
      "metadata": {
        "id": "GgkpQ_dN1ltt",
        "colab_type": "code",
        "colab": {
          "base_uri": "https://localhost:8080/",
          "height": 34
        },
        "outputId": "f075c0f3-e17b-4ab2-bdcb-cf7bfa567d91"
      },
      "cell_type": "code",
      "source": [
        "#вероятность., что студент учится на факультете A\n",
        "P = 0.8 * P_A / P_com\n",
        "P"
      ],
      "execution_count": 16,
      "outputs": [
        {
          "output_type": "execute_result",
          "data": {
            "text/plain": [
              "0.24242424242424246"
            ]
          },
          "metadata": {
            "tags": []
          },
          "execution_count": 16
        }
      ]
    },
    {
      "metadata": {
        "id": "JwaMSD3J1lrG",
        "colab_type": "code",
        "colab": {
          "base_uri": "https://localhost:8080/",
          "height": 34
        },
        "outputId": "d2023de0-0793-49e4-9928-3b2045e6a90a"
      },
      "cell_type": "code",
      "source": [
        "#вероятность., что студент учится на факультете B\n",
        "P = 0.7 * P_B / P_com\n",
        "P"
      ],
      "execution_count": 17,
      "outputs": [
        {
          "output_type": "execute_result",
          "data": {
            "text/plain": [
              "0.21212121212121213"
            ]
          },
          "metadata": {
            "tags": []
          },
          "execution_count": 17
        }
      ]
    },
    {
      "metadata": {
        "id": "qK6dfTTRLwMm",
        "colab_type": "code",
        "colab": {
          "base_uri": "https://localhost:8080/",
          "height": 34
        },
        "outputId": "6dd23666-a54c-4e15-9c0b-c87041279da2"
      },
      "cell_type": "code",
      "source": [
        "#вероятность., что студент учится на факультете C\n",
        "P = 0.9 * P_C / P_com\n",
        "P"
      ],
      "execution_count": 18,
      "outputs": [
        {
          "output_type": "execute_result",
          "data": {
            "text/plain": [
              "0.5454545454545455"
            ]
          },
          "metadata": {
            "tags": []
          },
          "execution_count": 18
        }
      ]
    },
    {
      "metadata": {
        "id": "CN0bWTY41fbW",
        "colab_type": "text"
      },
      "cell_type": "markdown",
      "source": [
        "5. Устройство состоит из трех деталей. Для первой детали вероятность выйти из строя в первый месяц равна 0.1, для второй - 0.2, для третьей - 0.25. Какова вероятность того, что в первый месяц выйдут из строя: а). все детали б). только две детали в). хотя бы одна деталь г). от одной до двух деталей?"
      ]
    },
    {
      "metadata": {
        "id": "hY33iCam1hiQ",
        "colab_type": "code",
        "colab": {
          "base_uri": "https://localhost:8080/",
          "height": 34
        },
        "outputId": "66780eb4-19dc-40f4-8427-225d754462df"
      },
      "cell_type": "code",
      "source": [
        "# Все детали выйдут из строя\n",
        "P_3d = round(C(3,3) / C(3,3) * (0.1 * 0.2 * 0.25), 3)\n",
        "P_3d"
      ],
      "execution_count": 19,
      "outputs": [
        {
          "output_type": "execute_result",
          "data": {
            "text/plain": [
              "0.005"
            ]
          },
          "metadata": {
            "tags": []
          },
          "execution_count": 19
        }
      ]
    },
    {
      "metadata": {
        "id": "jmRyF0MlqZLO",
        "colab_type": "code",
        "colab": {
          "base_uri": "https://localhost:8080/",
          "height": 34
        },
        "outputId": "7eb4b68d-5827-42bf-c531-973bd543d113"
      },
      "cell_type": "code",
      "source": [
        "# Две детали выйдут из строя\n",
        "P_2d = round(C(2,3) / C(3,3) * (0.1 * 0.2 * 0.25), 3)\n",
        "P_2d"
      ],
      "execution_count": 20,
      "outputs": [
        {
          "output_type": "execute_result",
          "data": {
            "text/plain": [
              "0.015"
            ]
          },
          "metadata": {
            "tags": []
          },
          "execution_count": 20
        }
      ]
    },
    {
      "metadata": {
        "id": "SNd1RzoWqfUe",
        "colab_type": "code",
        "colab": {
          "base_uri": "https://localhost:8080/",
          "height": 34
        },
        "outputId": "1fd4503e-2495-4998-d3f4-87e592cd7f6c"
      },
      "cell_type": "code",
      "source": [
        "# Хотя бы одна деталь выйдет из строя\n",
        "P_1d = round(C(1,3) / C(3,3) * (0.1 * 0.2 * 0.25), 3)\n",
        "P_m1d = round(P_1d + P_2d + P_3d, 3)\n",
        "P_m1d"
      ],
      "execution_count": 21,
      "outputs": [
        {
          "output_type": "execute_result",
          "data": {
            "text/plain": [
              "0.035"
            ]
          },
          "metadata": {
            "tags": []
          },
          "execution_count": 21
        }
      ]
    },
    {
      "metadata": {
        "id": "n6fwZ5Hrqg2e",
        "colab_type": "code",
        "colab": {
          "base_uri": "https://localhost:8080/",
          "height": 34
        },
        "outputId": "3c7f11d0-ed83-49e5-824b-c4d318e3e7a4"
      },
      "cell_type": "code",
      "source": [
        "# От одной до двух деталей выйдят из строя\n",
        "P_1d + P_2d"
      ],
      "execution_count": 132,
      "outputs": [
        {
          "output_type": "execute_result",
          "data": {
            "text/plain": [
              "0.03"
            ]
          },
          "metadata": {
            "tags": []
          },
          "execution_count": 132
        }
      ]
    }
  ]
}