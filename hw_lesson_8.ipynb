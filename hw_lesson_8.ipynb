{
  "nbformat": 4,
  "nbformat_minor": 0,
  "metadata": {
    "colab": {
      "name": "hw_lesson_8.ipynb",
      "version": "0.3.2",
      "provenance": [],
      "collapsed_sections": [],
      "include_colab_link": true
    },
    "kernelspec": {
      "name": "python3",
      "display_name": "Python 3"
    }
  },
  "cells": [
    {
      "cell_type": "markdown",
      "metadata": {
        "id": "view-in-github",
        "colab_type": "text"
      },
      "source": [
        "<a href=\"https://colab.research.google.com/github/francuzovd/probability_theory/blob/master/hw_lesson_8.ipynb\" target=\"_parent\"><img src=\"https://colab.research.google.com/assets/colab-badge.svg\" alt=\"Open In Colab\"/></a>"
      ]
    },
    {
      "cell_type": "code",
      "metadata": {
        "id": "BmJDOBwD3PvZ",
        "colab_type": "code",
        "colab": {}
      },
      "source": [
        "import numpy as np"
      ],
      "execution_count": 0,
      "outputs": []
    },
    {
      "cell_type": "markdown",
      "metadata": {
        "id": "Kq3i-0ut3SfQ",
        "colab_type": "text"
      },
      "source": [
        "1. Провести дисперсионный анализ для определения того, есть ли различия среднего роста среди взрослых футболистов, хоккеистов и штангистов. Даны значения роста в трех группах случайно выбранных спортсменов: Футболисты: 173, 175, 180, 178, 177, 185, 183, 182. Хоккеисты: 177, 179, 180, 188, 177, 172, 171, 184, 180. Штангисты: 172, 173, 169, 177, 166, 180, 178, 177, 172, 166, 170."
      ]
    },
    {
      "cell_type": "code",
      "metadata": {
        "id": "L_18DICN3edQ",
        "colab_type": "code",
        "colab": {}
      },
      "source": [
        "football = np.array([173, 175, 180, 178, 177, 185, 183, 182])\n",
        "hockey = np.array([177, 179, 180, 188, 177, 172, 171, 184, 180])\n",
        "weightlift = np.array([172, 173, 169, 177, 166, 180, 178, 177, 172, 166, 170])\n",
        "\n",
        "all_players = np.concatenate([football, hockey, weightlift], axis=0)"
      ],
      "execution_count": 0,
      "outputs": []
    },
    {
      "cell_type": "code",
      "metadata": {
        "id": "nAQEeW0X3epJ",
        "colab_type": "code",
        "outputId": "7ad2705a-abb3-4c5f-c192-9b413a0f98c3",
        "colab": {
          "base_uri": "https://localhost:8080/",
          "height": 102
        }
      },
      "source": [
        "football_mean = football.mean()\n",
        "hockey_mean = hockey.mean()\n",
        "weightlift_mean = weightlift.mean()\n",
        "all_players_mean = all_players.mean()\n",
        "\n",
        "print(f'Средний рост:\\nфутболистов - {football_mean}\\nхоккеистов - {hockey_mean}\\nштангистов - {weightlift_mean}\\nвсех игроков - {all_players_mean}')"
      ],
      "execution_count": 14,
      "outputs": [
        {
          "output_type": "stream",
          "text": [
            "Средний рост:\n",
            "футболистов - 179.125\n",
            "хоккеистов - 178.66666666666666\n",
            "штангистов - 172.72727272727272\n",
            "всех игроков - 176.46428571428572\n"
          ],
          "name": "stdout"
        }
      ]
    },
    {
      "cell_type": "code",
      "metadata": {
        "id": "685sez4_TYfG",
        "colab_type": "code",
        "outputId": "f381bfd8-cdd8-483d-f9c6-158e70e266da",
        "colab": {
          "base_uri": "https://localhost:8080/",
          "height": 34
        }
      },
      "source": [
        "s2 = np.sum((all_players - all_players_mean) ** 2)\n",
        "s2"
      ],
      "execution_count": 15,
      "outputs": [
        {
          "output_type": "execute_result",
          "data": {
            "text/plain": [
              "830.9642857142854"
            ]
          },
          "metadata": {
            "tags": []
          },
          "execution_count": 15
        }
      ]
    },
    {
      "cell_type": "code",
      "metadata": {
        "id": "nIS8AFFSTYaz",
        "colab_type": "code",
        "outputId": "807f49a6-16a0-4b64-96d4-7874ace00a07",
        "colab": {
          "base_uri": "https://localhost:8080/",
          "height": 34
        }
      },
      "source": [
        "s2f = (football_mean - all_players_mean) ** 2 * football.size + (hockey_mean - all_players_mean) ** 2 * hockey.size + (weightlift_mean - all_players_mean) ** 2 * weightlift.size\n",
        "s2f"
      ],
      "execution_count": 16,
      "outputs": [
        {
          "output_type": "execute_result",
          "data": {
            "text/plain": [
              "253.9074675324678"
            ]
          },
          "metadata": {
            "tags": []
          },
          "execution_count": 16
        }
      ]
    },
    {
      "cell_type": "code",
      "metadata": {
        "id": "H10epo8JTYWf",
        "colab_type": "code",
        "outputId": "32dc6b4b-a961-471d-e1e1-b2ed246fffb1",
        "colab": {
          "base_uri": "https://localhost:8080/",
          "height": 34
        }
      },
      "source": [
        "s2_residual = np.sum((football - football_mean) ** 2) + np.sum((hockey - hockey_mean) ** 2) +np.sum((weightlift - weightlift_mean) ** 2)\n",
        "s2_residual"
      ],
      "execution_count": 17,
      "outputs": [
        {
          "output_type": "execute_result",
          "data": {
            "text/plain": [
              "577.0568181818182"
            ]
          },
          "metadata": {
            "tags": []
          },
          "execution_count": 17
        }
      ]
    },
    {
      "cell_type": "code",
      "metadata": {
        "id": "pXZFNT4hTYPo",
        "colab_type": "code",
        "outputId": "530699ea-57b9-4168-8c5b-d9ae089423d4",
        "colab": {
          "base_uri": "https://localhost:8080/",
          "height": 34
        }
      },
      "source": [
        "s2, s2f + s2_residual"
      ],
      "execution_count": 18,
      "outputs": [
        {
          "output_type": "execute_result",
          "data": {
            "text/plain": [
              "(830.9642857142854, 830.964285714286)"
            ]
          },
          "metadata": {
            "tags": []
          },
          "execution_count": 18
        }
      ]
    },
    {
      "cell_type": "code",
      "metadata": {
        "id": "RtzZeaSkTYH5",
        "colab_type": "code",
        "outputId": "b0a025a2-b4a7-4791-d229-3cf969ed70ae",
        "colab": {
          "base_uri": "https://localhost:8080/",
          "height": 34
        }
      },
      "source": [
        "sigma2_general = s2 / (all_players.size - 1)\n",
        "sigma2_factor = s2 / (3 - 1)\n",
        "sigma2_residual = s2 / (all_players.size - 3)\n",
        "\n",
        "F_h = sigma2_factor / sigma2_residual\n",
        "F_h"
      ],
      "execution_count": 19,
      "outputs": [
        {
          "output_type": "execute_result",
          "data": {
            "text/plain": [
              "12.5"
            ]
          },
          "metadata": {
            "tags": []
          },
          "execution_count": 19
        }
      ]
    },
    {
      "cell_type": "code",
      "metadata": {
        "id": "8KnaXHWP3eyN",
        "colab_type": "code",
        "outputId": "57521db5-a1e9-4b32-ba25-5f9944c9a201",
        "colab": {
          "base_uri": "https://localhost:8080/",
          "height": 34
        }
      },
      "source": [
        "all_players.size"
      ],
      "execution_count": 20,
      "outputs": [
        {
          "output_type": "execute_result",
          "data": {
            "text/plain": [
              "28"
            ]
          },
          "metadata": {
            "tags": []
          },
          "execution_count": 20
        }
      ]
    },
    {
      "cell_type": "markdown",
      "metadata": {
        "id": "zHnrNe5JWm0f",
        "colab_type": "text"
      },
      "source": [
        "В таблице критических точек распределения [Фишера-Снедекора](https://www.matburo.ru/tv/table_fisher.pdf) для заданного уровня значимости  α=0.05 \n",
        "\n",
        "$F_{крит} = 3.38$"
      ]
    },
    {
      "cell_type": "code",
      "metadata": {
        "id": "GUq8OrXOWmvt",
        "colab_type": "code",
        "colab": {}
      },
      "source": [
        "F_kr = 3.38"
      ],
      "execution_count": 0,
      "outputs": []
    },
    {
      "cell_type": "code",
      "metadata": {
        "id": "sfk5GQsBWmpa",
        "colab_type": "code",
        "outputId": "54de3863-a1ff-40e0-c14d-1a727015d2e6",
        "colab": {
          "base_uri": "https://localhost:8080/",
          "height": 34
        }
      },
      "source": [
        "F_h > F_kr"
      ],
      "execution_count": 22,
      "outputs": [
        {
          "output_type": "execute_result",
          "data": {
            "text/plain": [
              "True"
            ]
          },
          "metadata": {
            "tags": []
          },
          "execution_count": 22
        }
      ]
    },
    {
      "cell_type": "markdown",
      "metadata": {
        "id": "13EnMogRWmbq",
        "colab_type": "text"
      },
      "source": [
        "Т.к. $F_{h} > F_{крит}$, то различие среднего роста для 3х видов спорта статистически значимо."
      ]
    },
    {
      "cell_type": "code",
      "metadata": {
        "id": "J9vZpiI5X4Mb",
        "colab_type": "code",
        "outputId": "970bea3a-47be-48d9-cfb4-94d2b6962c6e",
        "colab": {
          "base_uri": "https://localhost:8080/",
          "height": 34
        }
      },
      "source": [
        "eta = s2f / s2\n",
        "eta"
      ],
      "execution_count": 23,
      "outputs": [
        {
          "output_type": "execute_result",
          "data": {
            "text/plain": [
              "0.30555761769498"
            ]
          },
          "metadata": {
            "tags": []
          },
          "execution_count": 23
        }
      ]
    },
    {
      "cell_type": "code",
      "metadata": {
        "id": "ivixB3RcX4DR",
        "colab_type": "code",
        "colab": {}
      },
      "source": [
        ""
      ],
      "execution_count": 0,
      "outputs": []
    },
    {
      "cell_type": "markdown",
      "metadata": {
        "id": "IyiCeh8-3VwM",
        "colab_type": "text"
      },
      "source": [
        "2. Прикрепить ссылку на курсовой проект на github."
      ]
    },
    {
      "cell_type": "markdown",
      "metadata": {
        "id": "eYsi1wZG3dKP",
        "colab_type": "text"
      },
      "source": [
        "Ссылка на GitHub - https://github.com/francuzovd/probability_theory/blob/master/ProjectGB_Statistic_FrantsuzovDS.ipynb\n",
        "\n",
        "Ссылка на Google Colab - https://colab.research.google.com/drive/11rWZ14oKFqlAb3AkyW5k25La0H7NwV3m"
      ]
    },
    {
      "cell_type": "code",
      "metadata": {
        "id": "Z7YA1klyysLR",
        "colab_type": "code",
        "colab": {}
      },
      "source": [
        ""
      ],
      "execution_count": 0,
      "outputs": []
    }
  ]
}