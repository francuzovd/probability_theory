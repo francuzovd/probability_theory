{
  "nbformat": 4,
  "nbformat_minor": 0,
  "metadata": {
    "colab": {
      "name": "hw_lesson_2.ipynb",
      "version": "0.3.2",
      "provenance": [],
      "collapsed_sections": [],
      "include_colab_link": true
    },
    "kernelspec": {
      "name": "python3",
      "display_name": "Python 3"
    }
  },
  "cells": [
    {
      "cell_type": "markdown",
      "metadata": {
        "id": "view-in-github",
        "colab_type": "text"
      },
      "source": [
        "<a href=\"https://colab.research.google.com/github/francuzovd/probability_theory/blob/master/hw_lesson_2.ipynb\" target=\"_parent\"><img src=\"https://colab.research.google.com/assets/colab-badge.svg\" alt=\"Open In Colab\"/></a>"
      ]
    },
    {
      "metadata": {
        "id": "JYRrFsgYdyXh",
        "colab_type": "text"
      },
      "cell_type": "markdown",
      "source": [
        "1. Вероятность того, что стрелок попадет в мишень, выстрелив один раз, равна 0.8. Стрелок выстрелил 100 раз. Найдите вероятность того, что стрелок попадет в цель ровно 85 раз."
      ]
    },
    {
      "metadata": {
        "id": "VTUxZzUNeEfs",
        "colab_type": "text"
      },
      "cell_type": "markdown",
      "source": [
        "$P_n(X = k) = C_n^k*p^k*q^{n-k}$"
      ]
    },
    {
      "metadata": {
        "id": "VoUbOYDNeEZv",
        "colab_type": "code",
        "outputId": "84a768af-19b5-4da5-ae37-3061af552d70",
        "colab": {
          "base_uri": "https://localhost:8080/",
          "height": 34
        }
      },
      "cell_type": "code",
      "source": [
        "import numpy as np\n",
        "\n",
        "n = 100\n",
        "k = 85\n",
        "p = 0.8\n",
        "q = 1 - p\n",
        "\n",
        "P = round(np.math.factorial(n) / (np.math.factorial(k) * np.math.factorial(n - k)) * (p ** k) * (q ** (n - k)), 4)\n",
        "P"
      ],
      "execution_count": 1,
      "outputs": [
        {
          "output_type": "execute_result",
          "data": {
            "text/plain": [
              "0.0481"
            ]
          },
          "metadata": {
            "tags": []
          },
          "execution_count": 1
        }
      ]
    },
    {
      "metadata": {
        "id": "zt4_aIHheEQC",
        "colab_type": "text"
      },
      "cell_type": "markdown",
      "source": [
        "*Ответ :* 0.0481"
      ]
    },
    {
      "metadata": {
        "id": "62cl7yHrd5eb",
        "colab_type": "text"
      },
      "cell_type": "markdown",
      "source": [
        "2. Вероятность того, что лампочка перегорит в течение первого дня эксплуатации, равна 0.0004. В жилом комплексе после ремонта в один день включили 5000 новых лампочек. Какова вероятность, что ни одна из них не перегорит в первый день? Какова вероятность, что перегорят ровно две?"
      ]
    },
    {
      "metadata": {
        "id": "X-KnuCKUeFKi",
        "colab_type": "text"
      },
      "cell_type": "markdown",
      "source": [
        "$P_m = {\\lambda ^ m\\over m!} * e^{-\\lambda}$"
      ]
    },
    {
      "metadata": {
        "id": "UPJvkGJLeFIi",
        "colab_type": "code",
        "outputId": "5a53e9f5-5fe5-4099-d2f0-c13eeda037cc",
        "colab": {
          "base_uri": "https://localhost:8080/",
          "height": 34
        }
      },
      "cell_type": "code",
      "source": [
        "n = 5000\n",
        "p = 0.0004\n",
        "lam = n * p\n",
        "m = 0\n",
        "\n",
        "P = round((lam ** m / np.math.factorial(m)) * np.exp(-lam), 4)\n",
        "P"
      ],
      "execution_count": 2,
      "outputs": [
        {
          "output_type": "execute_result",
          "data": {
            "text/plain": [
              "0.1353"
            ]
          },
          "metadata": {
            "tags": []
          },
          "execution_count": 2
        }
      ]
    },
    {
      "metadata": {
        "id": "9Z2-kS9VeFHS",
        "colab_type": "code",
        "outputId": "e4e265bd-2ee9-4b75-d4a3-22dce262ec3b",
        "colab": {
          "base_uri": "https://localhost:8080/",
          "height": 34
        }
      },
      "cell_type": "code",
      "source": [
        "n = 5000\n",
        "p = 0.0004\n",
        "lam = n * p\n",
        "m = 2\n",
        "\n",
        "P = round((lam ** m / np.math.factorial(m)) * np.exp(-lam), 4)\n",
        "P"
      ],
      "execution_count": 3,
      "outputs": [
        {
          "output_type": "execute_result",
          "data": {
            "text/plain": [
              "0.2707"
            ]
          },
          "metadata": {
            "tags": []
          },
          "execution_count": 3
        }
      ]
    },
    {
      "metadata": {
        "id": "D5DyR_bKj6zl",
        "colab_type": "text"
      },
      "cell_type": "markdown",
      "source": [
        "*Ответ :* \n",
        "\n",
        "2.1 Вероятность, что не перегорит ни одна лампочка - 0.1353\n",
        "\n",
        "2.2 Вероятность, что перегорит две лампочки - 0.2707"
      ]
    },
    {
      "metadata": {
        "id": "EmPtS_nMd9gr",
        "colab_type": "text"
      },
      "cell_type": "markdown",
      "source": [
        "3. Монету подбросили 144 раза. Какова вероятность, что орел выпадет ровно 70 раз?"
      ]
    },
    {
      "metadata": {
        "id": "08IoAecNeFwc",
        "colab_type": "code",
        "outputId": "ccb16cb5-a1e9-4e47-bcd6-624dd48e9b5b",
        "colab": {
          "base_uri": "https://localhost:8080/",
          "height": 34
        }
      },
      "cell_type": "code",
      "source": [
        "n = 144\n",
        "k = 70\n",
        "p = 0.5\n",
        "q = 1 - p\n",
        "\n",
        "P = round(np.math.factorial(n) / (np.math.factorial(k) * np.math.factorial(n - k)) * (p ** k) * (q ** (n - k)), 4)\n",
        "P"
      ],
      "execution_count": 4,
      "outputs": [
        {
          "output_type": "execute_result",
          "data": {
            "text/plain": [
              "0.0628"
            ]
          },
          "metadata": {
            "tags": []
          },
          "execution_count": 4
        }
      ]
    },
    {
      "metadata": {
        "id": "vQ_FARABeFt1",
        "colab_type": "text"
      },
      "cell_type": "markdown",
      "source": [
        "*Ответ: * 0.0628"
      ]
    },
    {
      "metadata": {
        "id": "4kz18le_eAkI",
        "colab_type": "text"
      },
      "cell_type": "markdown",
      "source": [
        "4. В первом ящике находится 10 мячей, из которых 7 - белые. Во втором ящике - 11 мячей, из которых 9 белых. Из каждого ящика вытаскивают случайным образом по два мяча. Какова вероятность того, что все мячи белые? Какова вероятность того, что ровно два мяча белые? Какова вероятность того, что хотя бы один мяч белый?\n"
      ]
    },
    {
      "metadata": {
        "id": "sTHV2luSkkhp",
        "colab_type": "text"
      },
      "cell_type": "markdown",
      "source": [
        "Разберём вероятность, что все мяча белые. Для этог опосчитаем вероятность, что из каждого ящика достаём 2 белых мяча. После умножим вероятности."
      ]
    },
    {
      "metadata": {
        "id": "NdcJff0ReGQR",
        "colab_type": "code",
        "outputId": "5e26df5f-9f91-40f2-f515-963ebfca9034",
        "colab": {
          "base_uri": "https://localhost:8080/",
          "height": 34
        }
      },
      "cell_type": "code",
      "source": [
        "a1 = np.math.factorial(7) / (np.math.factorial(2) * np.math.factorial(7 - 2))\n",
        "b1 = np.math.factorial(10) / (np.math.factorial(2) * np.math.factorial(10 - 2))\n",
        "P_box1 = a1 / b1\n",
        "P_box1"
      ],
      "execution_count": 5,
      "outputs": [
        {
          "output_type": "execute_result",
          "data": {
            "text/plain": [
              "0.4666666666666667"
            ]
          },
          "metadata": {
            "tags": []
          },
          "execution_count": 5
        }
      ]
    },
    {
      "metadata": {
        "id": "PduI9_cIeGN5",
        "colab_type": "code",
        "outputId": "4807f48a-ba00-4788-d590-d9a98a7af2de",
        "colab": {
          "base_uri": "https://localhost:8080/",
          "height": 34
        }
      },
      "cell_type": "code",
      "source": [
        "a2 = np.math.factorial(9) / (np.math.factorial(2) * np.math.factorial(9 - 2))\n",
        "b2 = np.math.factorial(11) / (np.math.factorial(2) * np.math.factorial(11 - 2))\n",
        "P_box2 = a2 / b2\n",
        "P_box2"
      ],
      "execution_count": 6,
      "outputs": [
        {
          "output_type": "execute_result",
          "data": {
            "text/plain": [
              "0.6545454545454545"
            ]
          },
          "metadata": {
            "tags": []
          },
          "execution_count": 6
        }
      ]
    },
    {
      "metadata": {
        "id": "tgoF1Qqdrfb_",
        "colab_type": "code",
        "outputId": "acb9d3a8-8a22-4c62-d463-230eafc24014",
        "colab": {
          "base_uri": "https://localhost:8080/",
          "height": 34
        }
      },
      "cell_type": "code",
      "source": [
        "P_com = P_box1 * P_box2\n",
        "P_com"
      ],
      "execution_count": 7,
      "outputs": [
        {
          "output_type": "execute_result",
          "data": {
            "text/plain": [
              "0.3054545454545455"
            ]
          },
          "metadata": {
            "tags": []
          },
          "execution_count": 7
        }
      ]
    },
    {
      "metadata": {
        "id": "pPlrl_Q-lCt8",
        "colab_type": "text"
      },
      "cell_type": "markdown",
      "source": [
        "*Ответ: * 0.305"
      ]
    },
    {
      "metadata": {
        "id": "y7-3SxrPlHvi",
        "colab_type": "text"
      },
      "cell_type": "markdown",
      "source": [
        "Рассмотри вероятность, что вытащили только 2 белых мяча. Возможно несколькоо событий:\n",
        "\n",
        "1.   Из первого ящика достали 2 белых мяча, из второго - 0.\n",
        "2.   Из первого ящика достали 1 белый мяч, из второго - 1.\n",
        "3.   Из первого ящика достали 0 белых мячей, из второго - 2.\n"
      ]
    },
    {
      "metadata": {
        "id": "i72aPe_dmkEE",
        "colab_type": "text"
      },
      "cell_type": "markdown",
      "source": [
        "Рассчитаем вероятность - Из первого ящика достали 2 белых мяча, из второго - 0."
      ]
    },
    {
      "metadata": {
        "id": "uvvabJjFsUof",
        "colab_type": "code",
        "outputId": "bdb6233d-07b5-4aa2-a092-a284ab7dbc37",
        "colab": {
          "base_uri": "https://localhost:8080/",
          "height": 34
        }
      },
      "cell_type": "code",
      "source": [
        "a1 = np.math.factorial(7) / (np.math.factorial(2) * np.math.factorial(7 - 2))\n",
        "b1 = np.math.factorial(10) / (np.math.factorial(2) * np.math.factorial(10 - 2))\n",
        "P_box1 = a1 / b1\n",
        "P_box1"
      ],
      "execution_count": 8,
      "outputs": [
        {
          "output_type": "execute_result",
          "data": {
            "text/plain": [
              "0.4666666666666667"
            ]
          },
          "metadata": {
            "tags": []
          },
          "execution_count": 8
        }
      ]
    },
    {
      "metadata": {
        "id": "nqafLjgbsqsu",
        "colab_type": "code",
        "colab": {
          "base_uri": "https://localhost:8080/",
          "height": 34
        },
        "outputId": "c705fbd5-27ef-4566-9e74-9787575ceaf3"
      },
      "cell_type": "code",
      "source": [
        "a2 = np.math.factorial(9) / (np.math.factorial(0) * np.math.factorial(9 - 0))\n",
        "b2 = np.math.factorial(11) / (np.math.factorial(2) * np.math.factorial(11 - 2))\n",
        "P_box2 = a2 / b2\n",
        "P_box2"
      ],
      "execution_count": 14,
      "outputs": [
        {
          "output_type": "execute_result",
          "data": {
            "text/plain": [
              "0.01818181818181818"
            ]
          },
          "metadata": {
            "tags": []
          },
          "execution_count": 14
        }
      ]
    },
    {
      "metadata": {
        "id": "fpNu9JPCmXBn",
        "colab_type": "code",
        "colab": {
          "base_uri": "https://localhost:8080/",
          "height": 34
        },
        "outputId": "5a5ff16e-97da-48a1-aeea-b81d2aa7ac17"
      },
      "cell_type": "code",
      "source": [
        "P_com1 = P_box1 * P_box2\n",
        "P_com1"
      ],
      "execution_count": 15,
      "outputs": [
        {
          "output_type": "execute_result",
          "data": {
            "text/plain": [
              "0.0028282828282828283"
            ]
          },
          "metadata": {
            "tags": []
          },
          "execution_count": 15
        }
      ]
    },
    {
      "metadata": {
        "id": "rQMGuZ6-muTv",
        "colab_type": "text"
      },
      "cell_type": "markdown",
      "source": [
        "Рассчитаем вероятность - Из первого ящика достали 1 белый мяч, из второго - 1."
      ]
    },
    {
      "metadata": {
        "id": "g0KWOL7smiGG",
        "colab_type": "code",
        "colab": {
          "base_uri": "https://localhost:8080/",
          "height": 34
        },
        "outputId": "41039e42-242c-4a0e-b920-1193201fde02"
      },
      "cell_type": "code",
      "source": [
        "a1 = np.math.factorial(7) / (np.math.factorial(1) * np.math.factorial(7 - 1))\n",
        "b1 = np.math.factorial(10) / (np.math.factorial(2) * np.math.factorial(10 - 2))\n",
        "P_box1 = a1 / b1\n",
        "P_box1"
      ],
      "execution_count": 13,
      "outputs": [
        {
          "output_type": "execute_result",
          "data": {
            "text/plain": [
              "0.15555555555555556"
            ]
          },
          "metadata": {
            "tags": []
          },
          "execution_count": 13
        }
      ]
    },
    {
      "metadata": {
        "id": "MSvko3Uxm2kp",
        "colab_type": "code",
        "colab": {
          "base_uri": "https://localhost:8080/",
          "height": 34
        },
        "outputId": "93294403-8f64-42a3-ab67-b836335c763b"
      },
      "cell_type": "code",
      "source": [
        "a2 = np.math.factorial(9) / (np.math.factorial(1) * np.math.factorial(9 - 1))\n",
        "b2 = np.math.factorial(11) / (np.math.factorial(2) * np.math.factorial(11 - 2))\n",
        "P_box2 = a2 / b2\n",
        "P_box2"
      ],
      "execution_count": 16,
      "outputs": [
        {
          "output_type": "execute_result",
          "data": {
            "text/plain": [
              "0.16363636363636364"
            ]
          },
          "metadata": {
            "tags": []
          },
          "execution_count": 16
        }
      ]
    },
    {
      "metadata": {
        "id": "qwUIqpOMnBk8",
        "colab_type": "code",
        "colab": {
          "base_uri": "https://localhost:8080/",
          "height": 34
        },
        "outputId": "6ff1993f-4eac-4aef-c4f0-d7c5bbbc1566"
      },
      "cell_type": "code",
      "source": [
        "P_com2 = P_box1 * P_box2\n",
        "P_com2"
      ],
      "execution_count": 17,
      "outputs": [
        {
          "output_type": "execute_result",
          "data": {
            "text/plain": [
              "0.025454545454545455"
            ]
          },
          "metadata": {
            "tags": []
          },
          "execution_count": 17
        }
      ]
    },
    {
      "metadata": {
        "id": "hya6iRe0nH3_",
        "colab_type": "text"
      },
      "cell_type": "markdown",
      "source": [
        "Рассчитаем вероятность - Из первого ящика достали 0 белых мячей, из второго - 2."
      ]
    },
    {
      "metadata": {
        "id": "2smYPan3nEKA",
        "colab_type": "code",
        "colab": {
          "base_uri": "https://localhost:8080/",
          "height": 34
        },
        "outputId": "05302286-8347-44fe-e777-5c2ac5800bf0"
      },
      "cell_type": "code",
      "source": [
        "a1 = np.math.factorial(7) / (np.math.factorial(0) * np.math.factorial(7 - 0))\n",
        "b1 = np.math.factorial(10) / (np.math.factorial(2) * np.math.factorial(10 - 2))\n",
        "P_box1 = a1 / b1\n",
        "P_box1"
      ],
      "execution_count": 18,
      "outputs": [
        {
          "output_type": "execute_result",
          "data": {
            "text/plain": [
              "0.022222222222222223"
            ]
          },
          "metadata": {
            "tags": []
          },
          "execution_count": 18
        }
      ]
    },
    {
      "metadata": {
        "id": "i5cHpsxlnNLv",
        "colab_type": "code",
        "colab": {
          "base_uri": "https://localhost:8080/",
          "height": 34
        },
        "outputId": "a5f942e6-53d9-4171-f930-466a72cbffd8"
      },
      "cell_type": "code",
      "source": [
        "a2 = np.math.factorial(9) / (np.math.factorial(2) * np.math.factorial(9 - 2))\n",
        "b2 = np.math.factorial(11) / (np.math.factorial(2) * np.math.factorial(11 - 2))\n",
        "P_box2 = a2 / b2\n",
        "P_box2"
      ],
      "execution_count": 19,
      "outputs": [
        {
          "output_type": "execute_result",
          "data": {
            "text/plain": [
              "0.6545454545454545"
            ]
          },
          "metadata": {
            "tags": []
          },
          "execution_count": 19
        }
      ]
    },
    {
      "metadata": {
        "id": "y17MIaWFnQEK",
        "colab_type": "code",
        "colab": {
          "base_uri": "https://localhost:8080/",
          "height": 34
        },
        "outputId": "6bffbcc8-ed75-40cd-8a3e-ca21ab0460a3"
      },
      "cell_type": "code",
      "source": [
        "P_com3 = P_box1 * P_box2\n",
        "P_com3"
      ],
      "execution_count": 20,
      "outputs": [
        {
          "output_type": "execute_result",
          "data": {
            "text/plain": [
              "0.014545454545454545"
            ]
          },
          "metadata": {
            "tags": []
          },
          "execution_count": 20
        }
      ]
    },
    {
      "metadata": {
        "id": "wNnF21qnnmlA",
        "colab_type": "text"
      },
      "cell_type": "markdown",
      "source": [
        "Сложим вероятности  и получим вероятность вытащить 2 шара из 2х коробок"
      ]
    },
    {
      "metadata": {
        "id": "ucCUd6VrnUsc",
        "colab_type": "code",
        "colab": {
          "base_uri": "https://localhost:8080/",
          "height": 34
        },
        "outputId": "0ec7fed0-9b6a-463e-fb56-0f6be1ca7986"
      },
      "cell_type": "code",
      "source": [
        "P_com = round(P_com1 + P_com2 + P_com3, 3)\n",
        "P_com"
      ],
      "execution_count": 22,
      "outputs": [
        {
          "output_type": "execute_result",
          "data": {
            "text/plain": [
              "0.043"
            ]
          },
          "metadata": {
            "tags": []
          },
          "execution_count": 22
        }
      ]
    },
    {
      "metadata": {
        "id": "NPnstKvVn2v8",
        "colab_type": "text"
      },
      "cell_type": "markdown",
      "source": [
        "*Ответ: * 0.043"
      ]
    },
    {
      "metadata": {
        "id": "g4bRan5goCKT",
        "colab_type": "text"
      },
      "cell_type": "markdown",
      "source": [
        "Чтобы рассчитать вероятность, что хотя бы один мяч белы, мы рассчитаем вероятность, что вытянили 2 небелых мяча, а после вычтем эту вероятность из 1."
      ]
    },
    {
      "metadata": {
        "id": "_o2Xs1g6oUXY",
        "colab_type": "code",
        "colab": {
          "base_uri": "https://localhost:8080/",
          "height": 34
        },
        "outputId": "cabe7fb0-4ffc-4d31-ac1a-0bdc4f427ccd"
      },
      "cell_type": "code",
      "source": [
        "a1 = np.math.factorial(3) / (np.math.factorial(2) * np.math.factorial(3 - 2))\n",
        "b1 = np.math.factorial(10) / (np.math.factorial(2) * np.math.factorial(10 - 2))\n",
        "P_box1 = a1 / b1\n",
        "P_box1"
      ],
      "execution_count": 29,
      "outputs": [
        {
          "output_type": "execute_result",
          "data": {
            "text/plain": [
              "0.06666666666666667"
            ]
          },
          "metadata": {
            "tags": []
          },
          "execution_count": 29
        }
      ]
    },
    {
      "metadata": {
        "id": "LumKYLxGoX9q",
        "colab_type": "code",
        "colab": {
          "base_uri": "https://localhost:8080/",
          "height": 34
        },
        "outputId": "533435de-cd53-48cb-e44d-6aaf26c9747d"
      },
      "cell_type": "code",
      "source": [
        "a2 = np.math.factorial(2) / (np.math.factorial(2) * np.math.factorial(2 - 2))\n",
        "b2 = np.math.factorial(11) / (np.math.factorial(2) * np.math.factorial(11 - 2))\n",
        "P_box2 = a2 / b2\n",
        "P_box2"
      ],
      "execution_count": 30,
      "outputs": [
        {
          "output_type": "execute_result",
          "data": {
            "text/plain": [
              "0.01818181818181818"
            ]
          },
          "metadata": {
            "tags": []
          },
          "execution_count": 30
        }
      ]
    },
    {
      "metadata": {
        "id": "Zxmuzxwvocfa",
        "colab_type": "code",
        "colab": {
          "base_uri": "https://localhost:8080/",
          "height": 34
        },
        "outputId": "b3021308-6d04-4934-aec9-7b7d2eb39da4"
      },
      "cell_type": "code",
      "source": [
        "P_com = round(1 - P_box1 * P_box2, 4)\n",
        "P_com"
      ],
      "execution_count": 31,
      "outputs": [
        {
          "output_type": "execute_result",
          "data": {
            "text/plain": [
              "0.9988"
            ]
          },
          "metadata": {
            "tags": []
          },
          "execution_count": 31
        }
      ]
    },
    {
      "metadata": {
        "id": "ow9llZ63ohqe",
        "colab_type": "text"
      },
      "cell_type": "markdown",
      "source": [
        "*Ответ: * 0.9988"
      ]
    },
    {
      "metadata": {
        "id": "BMA81qDzpdXQ",
        "colab_type": "code",
        "colab": {}
      },
      "cell_type": "code",
      "source": [
        ""
      ],
      "execution_count": 0,
      "outputs": []
    }
  ]
}