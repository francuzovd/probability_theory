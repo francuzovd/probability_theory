{
  "nbformat": 4,
  "nbformat_minor": 0,
  "metadata": {
    "colab": {
      "name": "hw_lesson_5.ipynb",
      "version": "0.3.2",
      "provenance": [],
      "collapsed_sections": [],
      "include_colab_link": true
    },
    "kernelspec": {
      "name": "python3",
      "display_name": "Python 3"
    }
  },
  "cells": [
    {
      "cell_type": "markdown",
      "metadata": {
        "id": "view-in-github",
        "colab_type": "text"
      },
      "source": [
        "<a href=\"https://colab.research.google.com/github/francuzovd/probability_theory/blob/master/hw_lesson_5.ipynb\" target=\"_parent\"><img src=\"https://colab.research.google.com/assets/colab-badge.svg\" alt=\"Open In Colab\"/></a>"
      ]
    },
    {
      "metadata": {
        "id": "6wlF-fnLD-h-",
        "colab_type": "code",
        "colab": {}
      },
      "cell_type": "code",
      "source": [
        "import numpy as np"
      ],
      "execution_count": 0,
      "outputs": []
    },
    {
      "metadata": {
        "id": "RthbDWeQRrE4",
        "colab_type": "text"
      },
      "cell_type": "markdown",
      "source": [
        "1. Известно, что генеральная совокупность распределена нормально \n",
        "со средним квадратическим отклонением, равным 16. \n",
        "Найти доверительный интервал для оценки математического ожидания a с надежностью 0.95, \n",
        "если выборочная средняя M = 80, а объем выборки n = 256."
      ]
    },
    {
      "metadata": {
        "id": "n93ZNXBO_gWm",
        "colab_type": "text"
      },
      "cell_type": "markdown",
      "source": [
        "$\\delta = \\frac{t_{\\lambda} \\cdot \\sigma}{\\sqrt{n}}$"
      ]
    },
    {
      "metadata": {
        "id": "ocdDuF7PBdd-",
        "colab_type": "text"
      },
      "cell_type": "markdown",
      "source": [
        "$$2Ф(t_{\\lambda}) = 0.95\\\\\n",
        "Ф(t_{\\lambda}) = 0.475\\\\\n",
        "t_{\\lambda} = 1.96$$"
      ]
    },
    {
      "metadata": {
        "id": "fSPr7DlpRsyY",
        "colab_type": "code",
        "colab": {
          "base_uri": "https://localhost:8080/",
          "height": 34
        },
        "outputId": "0f35d251-0645-40af-9a50-be720f29bcda"
      },
      "cell_type": "code",
      "source": [
        "delta = 1.96 * 16 / 256 ** 0.5\n",
        "delta"
      ],
      "execution_count": 3,
      "outputs": [
        {
          "output_type": "execute_result",
          "data": {
            "text/plain": [
              "1.96"
            ]
          },
          "metadata": {
            "tags": []
          },
          "execution_count": 3
        }
      ]
    },
    {
      "metadata": {
        "id": "8r2lzMz2Cdjl",
        "colab_type": "code",
        "colab": {
          "base_uri": "https://localhost:8080/",
          "height": 34
        },
        "outputId": "27f35d85-2bec-4347-fafa-8744e2ca9543"
      },
      "cell_type": "code",
      "source": [
        "print('Доверительный интервал: ', (80 - delta, 80 + delta))"
      ],
      "execution_count": 4,
      "outputs": [
        {
          "output_type": "stream",
          "text": [
            "Доверительный интервал:  (78.04, 81.96)\n"
          ],
          "name": "stdout"
        }
      ]
    },
    {
      "metadata": {
        "id": "PZgnsQbvRtn2",
        "colab_type": "text"
      },
      "cell_type": "markdown",
      "source": [
        "2. В результате 10 независимых измерений некоторой величины X, выполненных с одинаковой точностью, \n",
        "получены опытные данные:\n",
        "6.9, 6.1, 6.2, 6.8, 7.5, 6.3, 6.4, 6.9, 6.7, 6.1\n",
        "Предполагая, что результаты измерений подчинены нормальному закону распределения вероятностей, \n",
        "оценить истинное значение величины X при помощи доверительного интервала, покрывающего это \n",
        "значение с доверительной вероятностью 0,95."
      ]
    },
    {
      "metadata": {
        "id": "lzP_2x4RDRd2",
        "colab_type": "code",
        "colab": {}
      },
      "cell_type": "code",
      "source": [
        "data = np.array([6.9, 6.1, 6.2, 6.8, 7.5, 6.3, 6.4, 6.9, 6.7, 6.1])\n",
        "M = data.mean()\n",
        "sigma = (data.var(ddof=1)) ** 0.5\n",
        "n = 10"
      ],
      "execution_count": 0,
      "outputs": []
    },
    {
      "metadata": {
        "id": "_u7whKugDQ-_",
        "colab_type": "text"
      },
      "cell_type": "markdown",
      "source": [
        "$$2Ф(t_{\\lambda}) = 0.95\\\\\n",
        "Ф(t_{\\lambda}) = 0.475\\\\\n",
        "t_{\\lambda} = 1.96$$"
      ]
    },
    {
      "metadata": {
        "id": "PYwmtAswRwoY",
        "colab_type": "code",
        "colab": {
          "base_uri": "https://localhost:8080/",
          "height": 34
        },
        "outputId": "b13fbe5c-9e48-4c13-d546-9b15bc1dbbcd"
      },
      "cell_type": "code",
      "source": [
        "delta = 1.96 * sigma / (n ** 0.5)\n",
        "delta"
      ],
      "execution_count": 8,
      "outputs": [
        {
          "output_type": "execute_result",
          "data": {
            "text/plain": [
              "0.2794098224631498"
            ]
          },
          "metadata": {
            "tags": []
          },
          "execution_count": 8
        }
      ]
    },
    {
      "metadata": {
        "id": "a4FcAy8SEzAr",
        "colab_type": "code",
        "colab": {
          "base_uri": "https://localhost:8080/",
          "height": 34
        },
        "outputId": "3d1f4912-10ef-4352-fdaa-8944783b55ad"
      },
      "cell_type": "code",
      "source": [
        "print('Истинное значение X находится в интервале ', (M - delta, M + delta))"
      ],
      "execution_count": 9,
      "outputs": [
        {
          "output_type": "stream",
          "text": [
            "Истинное значение X находится в интервале  (6.3105901775368505, 6.869409822463151)\n"
          ],
          "name": "stdout"
        }
      ]
    },
    {
      "metadata": {
        "id": "3_Ea61aYRxVZ",
        "colab_type": "text"
      },
      "cell_type": "markdown",
      "source": [
        "3. Утверждается, что шарики для подшипников, изготовленные автоматическим станком, имеют средний диаметр 17 мм. \n",
        "Используя односторонний критерий с α=0,05, проверить эту гипотезу, если в выборке из n=100 шариков средний диаметр \n",
        "оказался равным 17.5 мм, а дисперсия известна и равна 4 мм."
      ]
    },
    {
      "metadata": {
        "id": "XxwV5kE6LywS",
        "colab_type": "text"
      },
      "cell_type": "markdown",
      "source": [
        "$H_0$: M = 17\n",
        "\n",
        "$H_1$: M > 17"
      ]
    },
    {
      "metadata": {
        "id": "C_lxumrzRzrg",
        "colab_type": "code",
        "colab": {
          "base_uri": "https://localhost:8080/",
          "height": 34
        },
        "outputId": "eae459c7-2b31-42f5-a3af-a380b988abe4"
      },
      "cell_type": "code",
      "source": [
        "U_nabl = ((17.5 - 17) / 4 ** 0.5) * 100 ** 0.5\n",
        "U_nabl"
      ],
      "execution_count": 20,
      "outputs": [
        {
          "output_type": "execute_result",
          "data": {
            "text/plain": [
              "2.5"
            ]
          },
          "metadata": {
            "tags": []
          },
          "execution_count": 20
        }
      ]
    },
    {
      "metadata": {
        "id": "xaD8tWYcLCYL",
        "colab_type": "text"
      },
      "cell_type": "markdown",
      "source": [
        "Критическая точка для односторонней критической области (по таблице Лампласа) - 1.645\n",
        "\n",
        "Ф = (1 - 2 * alpha) / 2\n",
        "\n",
        "Ф = (1 - 2 *  0.05) / 2 = 0.45"
      ]
    },
    {
      "metadata": {
        "id": "VzueogEgN3Em",
        "colab_type": "text"
      },
      "cell_type": "markdown",
      "source": [
        "*Ответ: * Т.к. наблюдаемый критерий больше критической точки, то мы отвергаем нулевую гипотезу. Значит средний диаметр шариков для подшипников, изготовленных автоматическим станком, больше 17 мм."
      ]
    },
    {
      "metadata": {
        "id": "BuNFsDVGR0Wz",
        "colab_type": "text"
      },
      "cell_type": "markdown",
      "source": [
        "4. Продавец утверждает, что средний вес пачки печенья составляет 200 г. \n",
        "Из партии извлечена выборка из 10 пачек. Вес каждой пачки составляет:\n",
        "202, 203, 199, 197, 195, 201, 200, 204, 194, 190.\n",
        "Известно, что их веса распределены нормально.\n",
        "Верно ли утверждение продавца, если учитывать, что доверительная вероятность равна 99%?"
      ]
    },
    {
      "metadata": {
        "id": "rxYmIBLKR2iJ",
        "colab_type": "text"
      },
      "cell_type": "markdown",
      "source": [
        "$H_0$: M = 200\n",
        "\n",
        "$H_1$: M != 200"
      ]
    },
    {
      "metadata": {
        "id": "nzT00rO9RXUg",
        "colab_type": "code",
        "colab": {}
      },
      "cell_type": "code",
      "source": [
        "cookies =  np.array([202, 203, 199, 197, 195, 201, 200, 204, 194, 190])\n",
        "cookies_mean = cookies.mean()\n",
        "cookies_std = cookies.std()"
      ],
      "execution_count": 0,
      "outputs": []
    },
    {
      "metadata": {
        "id": "eI5yPQi5RRsD",
        "colab_type": "code",
        "colab": {
          "base_uri": "https://localhost:8080/",
          "height": 34
        },
        "outputId": "bdd0cc99-2e37-4ae3-c285-9a49452cb1d7"
      },
      "cell_type": "code",
      "source": [
        "U_nabl = (cookies_mean - 200) / cookies_std * 10 ** 0.5\n",
        "U_nabl"
      ],
      "execution_count": 29,
      "outputs": [
        {
          "output_type": "execute_result",
          "data": {
            "text/plain": [
              "-1.1227217828476797"
            ]
          },
          "metadata": {
            "tags": []
          },
          "execution_count": 29
        }
      ]
    },
    {
      "metadata": {
        "id": "F9VyuCXTR11N",
        "colab_type": "text"
      },
      "cell_type": "markdown",
      "source": [
        "Критическая точка для односторонней критической области (по таблице Лампласа) - 2.57\n",
        "\n",
        "Ф = 0.99 / 2 = 0.495"
      ]
    },
    {
      "metadata": {
        "id": "O1vIXV7mTVET",
        "colab_type": "text"
      },
      "cell_type": "markdown",
      "source": [
        "*Ответ: * Т.к. модуль наблюдаемого критерия меньше критической точки, то нулевую гипотезу можно принять. Значит средний вес паски составляет 200 г."
      ]
    },
    {
      "metadata": {
        "id": "_IQjuxdOUVHB",
        "colab_type": "code",
        "colab": {}
      },
      "cell_type": "code",
      "source": [
        ""
      ],
      "execution_count": 0,
      "outputs": []
    }
  ]
}