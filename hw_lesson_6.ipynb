{
  "nbformat": 4,
  "nbformat_minor": 0,
  "metadata": {
    "colab": {
      "name": "hw_lesson_6.ipynb",
      "version": "0.3.2",
      "provenance": [],
      "collapsed_sections": [],
      "include_colab_link": true
    },
    "kernelspec": {
      "name": "python3",
      "display_name": "Python 3"
    }
  },
  "cells": [
    {
      "cell_type": "markdown",
      "metadata": {
        "id": "view-in-github",
        "colab_type": "text"
      },
      "source": [
        "<a href=\"https://colab.research.google.com/github/francuzovd/probability_theory/blob/master/hw_lesson_6.ipynb\" target=\"_parent\"><img src=\"https://colab.research.google.com/assets/colab-badge.svg\" alt=\"Open In Colab\"/></a>"
      ]
    },
    {
      "cell_type": "code",
      "metadata": {
        "id": "LzIQ4d6hbzJi",
        "colab_type": "code",
        "colab": {}
      },
      "source": [
        "import numpy as np\n",
        "import pandas as pd"
      ],
      "execution_count": 0,
      "outputs": []
    },
    {
      "cell_type": "markdown",
      "metadata": {
        "id": "06sau7MRb6S5",
        "colab_type": "text"
      },
      "source": [
        "1. Даны значения величины заработной платы заемщиков банка (zp) и значения их поведенческого кредитного скоринга (ks):\n",
        "zp = [35, 45, 190, 200, 40, 70, 54, 150, 120, 110],\n",
        "ks = [401, 574, 874, 919, 459, 739, 653, 902, 746, 832].\n",
        "Найдите ковариацию этих двух величин с помощью элементарных действий, а затем с помощью функции cov из numpy\n",
        "Полученные значения должны быть равны.\n",
        "Найдите коэффициент корреляции Пирсона с помощью ковариации и среднеквадратичных отклонений двух признаков,\n",
        "а затем с использованием функций из библиотек numpy и pandas."
      ]
    },
    {
      "cell_type": "code",
      "metadata": {
        "id": "CwTyzU53cX_5",
        "colab_type": "code",
        "colab": {}
      },
      "source": [
        "zp = np.array([35, 45, 190, 200, 40, 70, 54, 150, 120, 110])\n",
        "ks = np.array([401, 574, 874, 919, 459, 739, 653, 902, 746, 832])"
      ],
      "execution_count": 0,
      "outputs": []
    },
    {
      "cell_type": "code",
      "metadata": {
        "id": "hAOCJ0x4cXyU",
        "colab_type": "code",
        "outputId": "224367c6-cbbb-4251-dbb8-5985069f5413",
        "colab": {
          "base_uri": "https://localhost:8080/",
          "height": 34
        }
      },
      "source": [
        "cov_ = (zp * ks).mean() - zp.mean() * ks.mean()\n",
        "cov_"
      ],
      "execution_count": 3,
      "outputs": [
        {
          "output_type": "execute_result",
          "data": {
            "text/plain": [
              "9157.839999999997"
            ]
          },
          "metadata": {
            "tags": []
          },
          "execution_count": 3
        }
      ]
    },
    {
      "cell_type": "code",
      "metadata": {
        "id": "yhlpGTidcXf8",
        "colab_type": "code",
        "outputId": "5d6090dd-f2f9-480f-86c7-332fe73bbfd3",
        "colab": {
          "base_uri": "https://localhost:8080/",
          "height": 51
        }
      },
      "source": [
        "np.cov(zp, ks, ddof=0)"
      ],
      "execution_count": 4,
      "outputs": [
        {
          "output_type": "execute_result",
          "data": {
            "text/plain": [
              "array([[ 3494.64,  9157.84],\n",
              "       [ 9157.84, 30468.89]])"
            ]
          },
          "metadata": {
            "tags": []
          },
          "execution_count": 4
        }
      ]
    },
    {
      "cell_type": "code",
      "metadata": {
        "id": "Hz0ZTvH2fEl9",
        "colab_type": "code",
        "outputId": "48704126-f137-4d07-b3e4-7ee652f5b58d",
        "colab": {
          "base_uri": "https://localhost:8080/",
          "height": 34
        }
      },
      "source": [
        "r = cov_ / (zp.std() * ks.std())\n",
        "r"
      ],
      "execution_count": 5,
      "outputs": [
        {
          "output_type": "execute_result",
          "data": {
            "text/plain": [
              "0.8874900920739158"
            ]
          },
          "metadata": {
            "tags": []
          },
          "execution_count": 5
        }
      ]
    },
    {
      "cell_type": "code",
      "metadata": {
        "id": "7gLDd0QZfFCq",
        "colab_type": "code",
        "outputId": "b80e9749-acbc-4f98-b9e4-b0c5a44f35cf",
        "colab": {
          "base_uri": "https://localhost:8080/",
          "height": 34
        }
      },
      "source": [
        "np.corrcoef(zp, ks)[0][1]"
      ],
      "execution_count": 6,
      "outputs": [
        {
          "output_type": "execute_result",
          "data": {
            "text/plain": [
              "0.8874900920739162"
            ]
          },
          "metadata": {
            "tags": []
          },
          "execution_count": 6
        }
      ]
    },
    {
      "cell_type": "code",
      "metadata": {
        "id": "jAAfVE8ofFL9",
        "colab_type": "code",
        "outputId": "6742f34c-edcb-4602-f4e6-04f9d79bc1c5",
        "colab": {
          "base_uri": "https://localhost:8080/",
          "height": 34
        }
      },
      "source": [
        "df = pd.DataFrame({'zp' : zp, 'ks' : ks}, columns=['zp', 'ks'])\n",
        "df.corr().loc['zp', 'ks']"
      ],
      "execution_count": 7,
      "outputs": [
        {
          "output_type": "execute_result",
          "data": {
            "text/plain": [
              "0.8874900920739162"
            ]
          },
          "metadata": {
            "tags": []
          },
          "execution_count": 7
        }
      ]
    },
    {
      "cell_type": "markdown",
      "metadata": {
        "id": "YOAaSzVVcHOg",
        "colab_type": "text"
      },
      "source": [
        "2. Измерены значения IQ выборки студентов, \n",
        "обучающихся в местных технических вузах:\n",
        "131, 125, 115, 122, 131, 115, 107, 99, 125, 111.\n",
        "Известно, что в генеральной совокупности IQ распределен нормально.\n",
        "Найдите доверительный интервал для математического ожидания с надежностью 0.95."
      ]
    },
    {
      "cell_type": "code",
      "metadata": {
        "id": "Ro4ZfYhqcaC0",
        "colab_type": "code",
        "colab": {}
      },
      "source": [
        "iq = np.array([131, 125, 115, 122, 131, 115, 107, 99, 125, 111])"
      ],
      "execution_count": 0,
      "outputs": []
    },
    {
      "cell_type": "markdown",
      "metadata": {
        "id": "g0AvVzZskP7t",
        "colab_type": "text"
      },
      "source": [
        "По таблице Стьюдента будем использовать t_kr = 2.26"
      ]
    },
    {
      "cell_type": "code",
      "metadata": {
        "id": "T1B6lxVNcZrT",
        "colab_type": "code",
        "outputId": "2d3194ef-ed8c-474b-ba7f-a94cd2942532",
        "colab": {
          "base_uri": "https://localhost:8080/",
          "height": 34
        }
      },
      "source": [
        "delta = 2.26 * iq.std(ddof=1) / iq.size ** 0.5\n",
        "delta"
      ],
      "execution_count": 9,
      "outputs": [
        {
          "output_type": "execute_result",
          "data": {
            "text/plain": [
              "7.5367225709263765"
            ]
          },
          "metadata": {
            "tags": []
          },
          "execution_count": 9
        }
      ]
    },
    {
      "cell_type": "code",
      "metadata": {
        "id": "g-DlC5CycY5n",
        "colab_type": "code",
        "outputId": "d3f8fcb1-d9c2-46cd-f97e-33926d652d29",
        "colab": {
          "base_uri": "https://localhost:8080/",
          "height": 34
        }
      },
      "source": [
        "(print('Доверительный интервал: ', iq.mean() - delta, iq.mean() + delta))"
      ],
      "execution_count": 10,
      "outputs": [
        {
          "output_type": "stream",
          "text": [
            "Доверительный интервал:  110.56327742907362 125.63672257092637\n"
          ],
          "name": "stdout"
        }
      ]
    },
    {
      "cell_type": "markdown",
      "metadata": {
        "id": "S-oVxYeicNC2",
        "colab_type": "text"
      },
      "source": [
        "3. Известно, что рост футболистов в сборной распределен нормально\n",
        "с дисперсией генеральной совокупности, равной 25 кв.см. Объем выборки равен 27,\n",
        "среднее выборочное составляет 174.2. Найдите доверительный интервал для математического \n",
        "ожидания с надежностью 0.95."
      ]
    },
    {
      "cell_type": "markdown",
      "metadata": {
        "id": "pnqbfJFmka6L",
        "colab_type": "text"
      },
      "source": [
        "По таблице Лапласа будем использовать t_kr = 1.96"
      ]
    },
    {
      "cell_type": "code",
      "metadata": {
        "id": "jloSETRgcbNU",
        "colab_type": "code",
        "outputId": "2b1d8c6a-892c-43f0-84d7-071e93a44dbc",
        "colab": {
          "base_uri": "https://localhost:8080/",
          "height": 34
        }
      },
      "source": [
        "delta = 1.96 * (25 / 27) ** 0.5\n",
        "delta"
      ],
      "execution_count": 0,
      "outputs": [
        {
          "output_type": "execute_result",
          "data": {
            "text/plain": [
              "1.8860108793527774"
            ]
          },
          "metadata": {
            "tags": []
          },
          "execution_count": 38
        }
      ]
    },
    {
      "cell_type": "code",
      "metadata": {
        "id": "e7wLwLHCcbAR",
        "colab_type": "code",
        "outputId": "84d5d37b-4e0c-4b6d-84d9-bf71435a9e1e",
        "colab": {
          "base_uri": "https://localhost:8080/",
          "height": 34
        }
      },
      "source": [
        "(print('Доверительный интервал: ', 174.2 - delta, 174.2 + delta))"
      ],
      "execution_count": 0,
      "outputs": [
        {
          "output_type": "stream",
          "text": [
            "Доверительный интервал:  172.31398912064722 176.08601087935276\n"
          ],
          "name": "stdout"
        }
      ]
    },
    {
      "cell_type": "markdown",
      "metadata": {
        "id": "22a02hNscR62",
        "colab_type": "text"
      },
      "source": [
        "4. Выберите тему для проектной работы по курсу Теории вероятностей и математической статистики\n",
        "и напишите ее в комментарии к Практическому заданию."
      ]
    },
    {
      "cell_type": "code",
      "metadata": {
        "id": "rS_IMqf7cVQn",
        "colab_type": "code",
        "colab": {}
      },
      "source": [
        ""
      ],
      "execution_count": 0,
      "outputs": []
    }
  ]
}