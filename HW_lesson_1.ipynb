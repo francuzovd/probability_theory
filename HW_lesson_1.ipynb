{
  "nbformat": 4,
  "nbformat_minor": 0,
  "metadata": {
    "colab": {
      "name": "HW_lesson_1",
      "version": "0.3.2",
      "provenance": [],
      "collapsed_sections": [],
      "include_colab_link": true
    },
    "kernelspec": {
      "name": "python3",
      "display_name": "Python 3"
    }
  },
  "cells": [
    {
      "cell_type": "markdown",
      "metadata": {
        "id": "view-in-github",
        "colab_type": "text"
      },
      "source": [
        "<a href=\"https://colab.research.google.com/github/francuzovd/probability_theory/blob/master/HW_lesson_1.ipynb\" target=\"_parent\"><img src=\"https://colab.research.google.com/assets/colab-badge.svg\" alt=\"Open In Colab\"/></a>"
      ]
    },
    {
      "metadata": {
        "id": "8NSFuTXb5m8O",
        "colab_type": "text"
      },
      "cell_type": "markdown",
      "source": [
        "1. Из колоды в 52 карты извлекаются случайным образом 4 карты. Найти вероятность того, что все карты – крести. Найти вероятность, что среди этих карт окажется хотя бы один туз."
      ]
    },
    {
      "metadata": {
        "id": "hDdZO2JK6CNh",
        "colab_type": "text"
      },
      "cell_type": "markdown",
      "source": [
        "Вероятность вытащить из колоды 1 карту крести составляет $13 \\over{52}$\n",
        "\n",
        "Т.к. событие зависит друг от друга, то вытащить 2ю карту крести составит $12 \\over 51$\n",
        "И т.д.\n",
        "\n",
        "Итого вытащить 4 карты крести подряд:\n",
        "${13\\over52}  * {12 \\over 51} * {11 \\over 50} * {10\\over 49} $"
      ]
    },
    {
      "metadata": {
        "id": "r1A8Gluo54zI",
        "colab_type": "code",
        "outputId": "de374859-e43c-44ea-a03b-17b834b05aa1",
        "colab": {
          "base_uri": "https://localhost:8080/",
          "height": 34
        }
      },
      "cell_type": "code",
      "source": [
        "13 / 52 * 12/ 51 * 11 / 50 * 10 / 49"
      ],
      "execution_count": 0,
      "outputs": [
        {
          "output_type": "execute_result",
          "data": {
            "text/plain": [
              "0.0026410564225690276"
            ]
          },
          "metadata": {
            "tags": []
          },
          "execution_count": 2
        }
      ]
    },
    {
      "metadata": {
        "id": "9JB0UzP-9i8P",
        "colab_type": "text"
      },
      "cell_type": "markdown",
      "source": [
        ""
      ]
    },
    {
      "metadata": {
        "id": "6yxezy-N92v6",
        "colab_type": "code",
        "outputId": "3962d98c-b84b-4809-8b86-a2ffcaa83480",
        "colab": {
          "base_uri": "https://localhost:8080/",
          "height": 34
        }
      },
      "cell_type": "code",
      "source": [
        "4 / 52 +  4 / 51 + 4 / 50 + 4 / 49"
      ],
      "execution_count": 0,
      "outputs": [
        {
          "output_type": "execute_result",
          "data": {
            "text/plain": [
              "0.316987102533321"
            ]
          },
          "metadata": {
            "tags": []
          },
          "execution_count": 3
        }
      ]
    },
    {
      "metadata": {
        "id": "B1ayzKGd9ckV",
        "colab_type": "text"
      },
      "cell_type": "markdown",
      "source": [
        "Ответ: Вероятность , что все карты – крести, равняется 0,26%\n",
        "вероятность, что среди этих карт окажется хотя бы один туз, равняется 31,7%."
      ]
    },
    {
      "metadata": {
        "id": "4aLxqUiL5rUz",
        "colab_type": "text"
      },
      "cell_type": "markdown",
      "source": [
        "2. На входной двери подъезда установлен кодовый замок, содержащий десять кнопок с цифрами от 0 до 9. Код содержит три цифры, которые нужно нажать одновременно. Какова вероятность того, что человек, не знающий код, откроет дверь с первой попытки?"
      ]
    },
    {
      "metadata": {
        "id": "ZZTLMsYUdIOM",
        "colab_type": "text"
      },
      "cell_type": "markdown",
      "source": [
        "Сперва вычислив количество возможный сочетаний кода по формуле\n",
        "\n",
        "$C^k_n={n!\\over k!(n−k)!}$"
      ]
    },
    {
      "metadata": {
        "id": "qMj5F955dHQ-",
        "colab_type": "code",
        "outputId": "bec5f51c-dbc2-4773-bb2f-17b6a4f2a1ba",
        "colab": {
          "base_uri": "https://localhost:8080/",
          "height": 34
        }
      },
      "cell_type": "code",
      "source": [
        "from math import factorial as fct\n",
        "fct(10) / (fct(3) * fct(10 - 3))"
      ],
      "execution_count": 0,
      "outputs": [
        {
          "output_type": "execute_result",
          "data": {
            "text/plain": [
              "120.0"
            ]
          },
          "metadata": {
            "tags": []
          },
          "execution_count": 4
        }
      ]
    },
    {
      "metadata": {
        "id": "I6atP7zyeBJu",
        "colab_type": "text"
      },
      "cell_type": "markdown",
      "source": [
        "Всего 1 правильный код. В таком случае вероятность будет равна ${1 \\over 120}$"
      ]
    },
    {
      "metadata": {
        "id": "2nK31U8jeB5f",
        "colab_type": "code",
        "outputId": "1766f8c8-cc30-48c5-bf01-b377cfe112de",
        "colab": {
          "base_uri": "https://localhost:8080/",
          "height": 34
        }
      },
      "cell_type": "code",
      "source": [
        "1 / 120"
      ],
      "execution_count": 0,
      "outputs": [
        {
          "output_type": "execute_result",
          "data": {
            "text/plain": [
              "0.008333333333333333"
            ]
          },
          "metadata": {
            "tags": []
          },
          "execution_count": 5
        }
      ]
    },
    {
      "metadata": {
        "id": "sr1Y8LYreSEK",
        "colab_type": "text"
      },
      "cell_type": "markdown",
      "source": [
        "*Ответ: * 8,3%"
      ]
    },
    {
      "metadata": {
        "id": "DHQCh17r5rN-",
        "colab_type": "text"
      },
      "cell_type": "markdown",
      "source": [
        "3. В ящике имеется 15 деталей, из которых 9 окрашены. Рабочий случайным образом извлекает 3 детали. Какова вероятность того, что все извлеченные детали окрашены?"
      ]
    },
    {
      "metadata": {
        "id": "H3H-mpAneZ7A",
        "colab_type": "text"
      },
      "cell_type": "markdown",
      "source": [
        "Вероятность вытащить окрашенную деталь в первый раз - ${9 \\over 15}$, во второй раз - ${8 \\over 14}$, в третий - ${7 \\over 13}$. Вероятность вытащить три окрашенные детали подряд:"
      ]
    },
    {
      "metadata": {
        "id": "_8wu4wHSfIFh",
        "colab_type": "code",
        "outputId": "6947ca9f-af3f-4f87-a441-f6db5e6777f6",
        "colab": {
          "base_uri": "https://localhost:8080/",
          "height": 34
        }
      },
      "cell_type": "code",
      "source": [
        "9 / 15 * 8 / 14 * 7 / 13"
      ],
      "execution_count": 0,
      "outputs": [
        {
          "output_type": "execute_result",
          "data": {
            "text/plain": [
              "0.1846153846153846"
            ]
          },
          "metadata": {
            "tags": []
          },
          "execution_count": 6
        }
      ]
    },
    {
      "metadata": {
        "id": "yDSzqb6-fP0R",
        "colab_type": "text"
      },
      "cell_type": "markdown",
      "source": [
        "*Ответ:* 18,46%"
      ]
    },
    {
      "metadata": {
        "id": "D8tuXM_l5rDh",
        "colab_type": "text"
      },
      "cell_type": "markdown",
      "source": [
        "4. В лотерее 100 билетов. Из них 2 выигрышных. Какова вероятность того, что 2 приобретенных билета окажутся выигрышными?"
      ]
    },
    {
      "metadata": {
        "id": "wDTSNBpkfZWy",
        "colab_type": "text"
      },
      "cell_type": "markdown",
      "source": [
        "Вероятность купить 1 выигрышный билет - ${2 \\over 100}$. Вероятность купить после второй выигрышнй билет - ${1 \\over 99}$. Вероятность купить 2 выигрышных билета сразу:"
      ]
    },
    {
      "metadata": {
        "id": "fLi3ctQKfXqX",
        "colab_type": "code",
        "outputId": "96d7d2a2-a452-4e28-b369-0832354cf992",
        "colab": {
          "base_uri": "https://localhost:8080/",
          "height": 34
        }
      },
      "cell_type": "code",
      "source": [
        "2 / 100 * 1 / 99 "
      ],
      "execution_count": 0,
      "outputs": [
        {
          "output_type": "execute_result",
          "data": {
            "text/plain": [
              "0.00020202020202020202"
            ]
          },
          "metadata": {
            "tags": []
          },
          "execution_count": 7
        }
      ]
    },
    {
      "metadata": {
        "id": "Kpw6cMSHf9t4",
        "colab_type": "text"
      },
      "cell_type": "markdown",
      "source": [
        "*Ответ: * 0,02%"
      ]
    },
    {
      "metadata": {
        "id": "5_buHzVu52FD",
        "colab_type": "code",
        "colab": {}
      },
      "cell_type": "code",
      "source": [
        ""
      ],
      "execution_count": 0,
      "outputs": []
    }
  ]
}