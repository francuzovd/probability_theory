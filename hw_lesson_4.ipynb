{
  "nbformat": 4,
  "nbformat_minor": 0,
  "metadata": {
    "colab": {
      "name": "hw_lesson_4.ipynb",
      "version": "0.3.2",
      "provenance": [],
      "collapsed_sections": [],
      "include_colab_link": true
    },
    "kernelspec": {
      "name": "python3",
      "display_name": "Python 3"
    }
  },
  "cells": [
    {
      "cell_type": "markdown",
      "metadata": {
        "id": "view-in-github",
        "colab_type": "text"
      },
      "source": [
        "<a href=\"https://colab.research.google.com/github/francuzovd/probability_theory/blob/master/hw_lesson_4.ipynb\" target=\"_parent\"><img src=\"https://colab.research.google.com/assets/colab-badge.svg\" alt=\"Open In Colab\"/></a>"
      ]
    },
    {
      "metadata": {
        "id": "Rl_Tw-_Cv6ic",
        "colab_type": "code",
        "colab": {}
      },
      "cell_type": "code",
      "source": [
        "import numpy as np\n",
        "import matplotlib.pyplot as plt\n",
        "\n",
        "%matplotlib inline"
      ],
      "execution_count": 0,
      "outputs": []
    },
    {
      "metadata": {
        "id": "5_B6rJ8NwIeb",
        "colab_type": "text"
      },
      "cell_type": "markdown",
      "source": [
        "1. Случайная непрерывная величина A имеет равномерное распределение на промежутке (200, 800]. \n",
        "Найдите ее среднее значение и дисперсию."
      ]
    },
    {
      "metadata": {
        "id": "SQwqgbrGxiCg",
        "colab_type": "code",
        "outputId": "b5691e9a-0e32-4f04-b1ba-e64589ec9eb3",
        "colab": {
          "base_uri": "https://localhost:8080/",
          "height": 34
        }
      },
      "cell_type": "code",
      "source": [
        "(800 + 200) / 2"
      ],
      "execution_count": 0,
      "outputs": [
        {
          "output_type": "execute_result",
          "data": {
            "text/plain": [
              "500.0"
            ]
          },
          "metadata": {
            "tags": []
          },
          "execution_count": 22
        }
      ]
    },
    {
      "metadata": {
        "id": "P7loHyRJhU_z",
        "colab_type": "code",
        "outputId": "b2330513-10d7-47c5-8011-bdb14556d511",
        "colab": {
          "base_uri": "https://localhost:8080/",
          "height": 34
        }
      },
      "cell_type": "code",
      "source": [
        "(800 - 200) ** 2 / 12"
      ],
      "execution_count": 0,
      "outputs": [
        {
          "output_type": "execute_result",
          "data": {
            "text/plain": [
              "30000.0"
            ]
          },
          "metadata": {
            "tags": []
          },
          "execution_count": 24
        }
      ]
    },
    {
      "metadata": {
        "id": "-jIa3UwlwNep",
        "colab_type": "text"
      },
      "cell_type": "markdown",
      "source": [
        "2. О случайной непрерывной равномерно распределенной величине B известно, что ее дисперсия равна 0.2.\n",
        "Можно ли найти правую границу величины B и ее среднее значение зная, что левая граница равна 0.5?\n",
        "Если да, найдите ее."
      ]
    },
    {
      "metadata": {
        "id": "p3kRJxwjyU8u",
        "colab_type": "code",
        "outputId": "e4549844-1cae-461b-905b-6a701afaa7cd",
        "colab": {
          "base_uri": "https://localhost:8080/",
          "height": 34
        }
      },
      "cell_type": "code",
      "source": [
        "right = np.sqrt(0.2 * 12) + 0.5\n",
        "right"
      ],
      "execution_count": 0,
      "outputs": [
        {
          "output_type": "execute_result",
          "data": {
            "text/plain": [
              "2.049193338482967"
            ]
          },
          "metadata": {
            "tags": []
          },
          "execution_count": 28
        }
      ]
    },
    {
      "metadata": {
        "id": "BMKmP7aBiLfg",
        "colab_type": "code",
        "outputId": "3ce69d2f-d774-4b13-cc16-869627d5144b",
        "colab": {
          "base_uri": "https://localhost:8080/",
          "height": 34
        }
      },
      "cell_type": "code",
      "source": [
        "(0.5 + right) / 2"
      ],
      "execution_count": 0,
      "outputs": [
        {
          "output_type": "execute_result",
          "data": {
            "text/plain": [
              "1.2745966692414834"
            ]
          },
          "metadata": {
            "tags": []
          },
          "execution_count": 29
        }
      ]
    },
    {
      "metadata": {
        "id": "eczNWlAvwp_U",
        "colab_type": "text"
      },
      "cell_type": "markdown",
      "source": [
        "3. Непрерывная случайная величина X распределена нормально и задана плотностью распределения\n",
        "$$f(x) = {1 \\over 4 * \\sqrt{2*\\pi}} * e^{-(x+2)^2 \\over 32}$$.\n",
        "Найдите:\n",
        "а). M(X)\n",
        "б). D(X)\n",
        "в). std(X) (среднее квадратичное отклонение)"
      ]
    },
    {
      "metadata": {
        "id": "QC4IxGIL2mot",
        "colab_type": "text"
      },
      "cell_type": "markdown",
      "source": [
        "M(X) = -2\n",
        "\n",
        "D(X) = 16\n",
        "\n",
        "std(X) = 4"
      ]
    },
    {
      "metadata": {
        "id": "7chR2xy3wyWn",
        "colab_type": "text"
      },
      "cell_type": "markdown",
      "source": [
        "4. Рост взрослого населения города X имеет нормальное распределение. \n",
        "Причем, средний рост равен 174 см, а среднее квадратичное отклонение равно 8 см.\n",
        "Какова вероятность того, что случайным образом выбранный взрослый человек имеет рост:\n",
        "а). больше 182 см\n",
        "б). больше 190 см\n",
        "в). от 166 см до 190 см\n",
        "г). от 166 см до 182 см\n",
        "д). от 158 см до 190 см\n",
        "е). не выше 150 см или не ниже 190 см\n",
        "ё). не выше 150 см или не ниже 198 см\n",
        "ж). ниже 166 см"
      ]
    },
    {
      "metadata": {
        "id": "r37QZ7xk6ahp",
        "colab_type": "text"
      },
      "cell_type": "markdown",
      "source": [
        "а) 0.15999999999999998\n",
        "\n",
        "б) 0.02300000000000002\n",
        "\n",
        "в) 0.817\n",
        "\n",
        "г) 0.68\n",
        "\n",
        "д) 0.954\n",
        "\n",
        "е) 0.046\n",
        "\n",
        "ё) 0.03200000000000003\n",
        "\n",
        "ж) 0.014000000000000012"
      ]
    },
    {
      "metadata": {
        "id": "yX4fqvoFw0Ll",
        "colab_type": "text"
      },
      "cell_type": "markdown",
      "source": [
        "5. На сколько сигм (средних квадратичных отклонений) отклоняется рост человека, равный 190 см, от \n",
        "математического ожидания роста в популяции, в которой M(X) = 178 см и D(X) = 25 кв.см?"
      ]
    },
    {
      "metadata": {
        "id": "ZvUB9P3S-4JM",
        "colab_type": "code",
        "outputId": "0b4eb060-6e8f-4a4f-e7b5-d6730838a671",
        "colab": {
          "base_uri": "https://localhost:8080/",
          "height": 34
        }
      },
      "cell_type": "code",
      "source": [
        "(190-178) / 5"
      ],
      "execution_count": 0,
      "outputs": [
        {
          "output_type": "execute_result",
          "data": {
            "text/plain": [
              "2.4"
            ]
          },
          "metadata": {
            "tags": []
          },
          "execution_count": 21
        }
      ]
    },
    {
      "metadata": {
        "id": "V_e8ihMs-zSx",
        "colab_type": "text"
      },
      "cell_type": "markdown",
      "source": [
        "2.4 сигмы"
      ]
    }
  ]
}